{
 "cells": [
  {
   "cell_type": "code",
   "execution_count": 1,
   "metadata": {},
   "outputs": [],
   "source": [
    "import numpy as np\n",
    "import pandas as pd"
   ]
  },
  {
   "cell_type": "code",
   "execution_count": 2,
   "metadata": {},
   "outputs": [],
   "source": [
    "# data downloaded from: https://meps.ahrq.gov/mepsweb/data_files/pufs/h192ssp.zip\n",
    "# documentation on this data: \n",
    "# https://meps.ahrq.gov/data_stats/download_data/pufs/h192/h192doc.shtml#Utilization25112\n",
    "df = pd.read_sas('h192.ssp',format='xport')"
   ]
  },
  {
   "cell_type": "code",
   "execution_count": 3,
   "metadata": {},
   "outputs": [],
   "source": [
    "utilization_vars = ['OBTOTV16', 'OBCHIR16', 'OBNURS16', 'OBOPTO16', 'OBASST16', 'OBTHER16',\\\n",
    "                   'OPTOTV16', 'AMCHIR16', 'AMNURS16', 'AMOPTO16', 'AMASST16', 'AMTHER16',\\\n",
    "                   'ERTOT16', 'IPDIS16', 'IPNGTD16', 'DVTOT16', 'HHTOTD16', 'RXTOT16']\n",
    "\n",
    "\n",
    "categorical_features = ['REGION53','RACEV2X','HISPANX','MARRY53X','ACTDTY53','HONRDC53',\\\n",
    "                        'LANGSPK','FILEDR16','PREGNT53','WLKLIM53','WLKDIF53','AIDHLP53',\\\n",
    "                        'SOCLIM53','COGLIM53','WRGLAS42','EMPST53','MORJOB53','OCCCT53H','INDCT53H']\n",
    "\n",
    "quantitative_features = ['AGE53X','EDUCYR','HIDEG','FAMINC16','RTHLTH53','MNHLTH53','NOINSTM']"
   ]
  },
  {
   "cell_type": "code",
   "execution_count": 4,
   "metadata": {},
   "outputs": [],
   "source": [
    "# data cleaning\n",
    "# remove unneeded variables\n",
    "df = df[categorical_features+quantitative_features+utilization_vars]\n",
    "# convert to integer (all values in these features should be integers; floating point error creates nonintegers)\n",
    "df = df.astype(int)\n",
    "# remove entries with missing values for the response\n",
    "df = df[(df[utilization_vars]>=0).all(1)]\n",
    "# remove entries with missing values for features - should be nonnegative, or -1 (inapplicable)\n",
    "df = df[(df[categorical_features+quantitative_features]>=-1).all(1)]\n",
    "# for quantitative features, set -1 (inapplicable) to 0\n",
    "df[quantitative_features] = df[quantitative_features] + (df[quantitative_features]==-1)"
   ]
  },
  {
   "cell_type": "code",
   "execution_count": 5,
   "metadata": {},
   "outputs": [],
   "source": [
    "# convert categorical features into dummy variables (one for each level - not removing a reference level)\n",
    "df = pd.get_dummies(df,columns=categorical_features,prefix=categorical_features)\n",
    "# extract features X and transformed response Y\n",
    "X_meps = np.array(df.drop(utilization_vars,axis=1))\n",
    "Y_meps = np.log(1+np.array(df[utilization_vars]).sum(1))\n",
    "# write to file\n",
    "data_meps = np.c_[X_meps,Y_meps]\n",
    "np.savetxt('meps_data.txt',data_meps)"
   ]
  }
 ],
 "metadata": {
  "kernelspec": {
   "display_name": "Python 3",
   "language": "python",
   "name": "python3"
  },
  "language_info": {
   "codemirror_mode": {
    "name": "ipython",
    "version": 3
   },
   "file_extension": ".py",
   "mimetype": "text/x-python",
   "name": "python",
   "nbconvert_exporter": "python",
   "pygments_lexer": "ipython3",
   "version": "3.6.5"
  }
 },
 "nbformat": 4,
 "nbformat_minor": 2
}
